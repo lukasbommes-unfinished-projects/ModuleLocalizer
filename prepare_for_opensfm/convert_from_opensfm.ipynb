{
 "cells": [
  {
   "cell_type": "markdown",
   "id": "53d0639f",
   "metadata": {},
   "source": [
    "# Convert OpenSfM reconstruction to format used by our tool"
   ]
  },
  {
   "cell_type": "code",
   "execution_count": 37,
   "id": "df3674a8",
   "metadata": {},
   "outputs": [],
   "source": [
    "import sys\n",
    "import json\n",
    "import pickle\n",
    "import numpy as np\n",
    "import cv2\n",
    "import networkx as nx\n",
    "import matplotlib.pyplot as plt\n",
    "\n",
    "sys.path.append(\"..\")\n",
    "from mapper.modules import triangulate_modules\n",
    "from mapper.map_points import MapPoints"
   ]
  },
  {
   "cell_type": "code",
   "execution_count": 38,
   "id": "f0fc2751",
   "metadata": {},
   "outputs": [
    {
     "name": "stdout",
     "output_type": "stream",
     "text": [
      "Number of reconstructions: 1\n"
     ]
    }
   ],
   "source": [
    "reconstructions = json.load(open(\"reconstruction.json\", \"r\"))\n",
    "\n",
    "print(\"Number of reconstructions: {}\".format(len(reconstructions)))"
   ]
  },
  {
   "cell_type": "code",
   "execution_count": 39,
   "id": "6c66b0bd",
   "metadata": {},
   "outputs": [],
   "source": [
    "reconstruction = reconstructions[0]"
   ]
  },
  {
   "cell_type": "markdown",
   "id": "167bffd5",
   "metadata": {},
   "source": [
    "### Convert map points"
   ]
  },
  {
   "cell_type": "code",
   "execution_count": 40,
   "id": "6a64ff15",
   "metadata": {},
   "outputs": [],
   "source": [
    "map_points = MapPoints()\n",
    "num_points = len(reconstruction['points'])\n",
    "map_points.pts_3d = np.zeros((num_points, 3), dtype=np.float64)\n",
    "for i, point in enumerate(reconstruction['points'].values()):\n",
    "    map_points.pts_3d[i, :] = point['coordinates']"
   ]
  },
  {
   "cell_type": "markdown",
   "id": "214e19c6",
   "metadata": {},
   "source": [
    "### Convert camera poses"
   ]
  },
  {
   "cell_type": "code",
   "execution_count": 41,
   "id": "19639136",
   "metadata": {},
   "outputs": [],
   "source": [
    "pose_graph = nx.Graph()\n",
    "for i, frame_name in enumerate(sorted(reconstruction['shots'])):\n",
    "    shot = reconstruction['shots'][frame_name]\n",
    "    R, _ = cv2.Rodrigues(np.array(shot[\"rotation\"]))\n",
    "    t = np.array(shot[\"translation\"])\n",
    "    t = -R.T.dot(t)\n",
    "    R, _ = cv2.Rodrigues(R.T)\n",
    "    pose = np.hstack((R.reshape(3,), t))\n",
    "    frame_name = str.split(frame_name, \".\")[0]\n",
    "    pose_graph.add_node(i, frame_name=frame_name, pose=pose)"
   ]
  },
  {
   "cell_type": "code",
   "execution_count": 42,
   "id": "2814edaa",
   "metadata": {},
   "outputs": [],
   "source": [
    "pickle.dump(map_points, open(\"map_points.pkl\", \"wb\"))\n",
    "pickle.dump(pose_graph, open(\"pose_graph.pkl\", \"wb\"))"
   ]
  },
  {
   "cell_type": "code",
   "execution_count": null,
   "id": "8cb33963",
   "metadata": {},
   "outputs": [],
   "source": []
  }
 ],
 "metadata": {
  "kernelspec": {
   "display_name": "Python 3",
   "language": "python",
   "name": "python3"
  },
  "language_info": {
   "codemirror_mode": {
    "name": "ipython",
    "version": 3
   },
   "file_extension": ".py",
   "mimetype": "text/x-python",
   "name": "python",
   "nbconvert_exporter": "python",
   "pygments_lexer": "ipython3",
   "version": "3.6.9"
  }
 },
 "nbformat": 4,
 "nbformat_minor": 5
}
