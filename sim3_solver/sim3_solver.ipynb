{
 "cells": [
  {
   "cell_type": "markdown",
   "id": "1c21057d",
   "metadata": {},
   "source": [
    "### SIM3 solver for coarse alignment of camera trajectory with GPS trajectory"
   ]
  },
  {
   "cell_type": "code",
   "execution_count": 152,
   "id": "1a8c4e7c",
   "metadata": {},
   "outputs": [],
   "source": [
    "import pickle\n",
    "import glob\n",
    "import copy\n",
    "import cv2\n",
    "import json\n",
    "import numpy as np\n",
    "import matplotlib.pyplot as plt\n",
    "from collections import Counter, defaultdict\n",
    "from scipy.spatial.distance import pdist, squareform\n",
    "from scipy.spatial import KDTree\n",
    "\n",
    "from transforms import affine_matrix_from_points, decompose_matrix, superimposition_matrix\n",
    "from pytransform3d import rotations\n",
    "\n",
    "import sys\n",
    "sys.path.append(\"..\")"
   ]
  },
  {
   "cell_type": "code",
   "execution_count": 153,
   "id": "b3880819",
   "metadata": {},
   "outputs": [],
   "source": [
    "def from_twist(twist):\n",
    "    \"\"\"Convert a 6D twist coordinate (shape (6,)) into a 3x3 rotation matrix\n",
    "    and translation vector (shape (3,)).\"\"\"\n",
    "    r = twist[:3].reshape(3, 1)\n",
    "    t = twist[3:].reshape(3, 1)\n",
    "    R, _ = cv2.Rodrigues(r)\n",
    "    return R, t"
   ]
  },
  {
   "cell_type": "code",
   "execution_count": 154,
   "id": "dbded3a3",
   "metadata": {},
   "outputs": [],
   "source": [
    "camera_matrix = pickle.load(open(\"../camera_calibration/parameters/ir/camera_matrix.pkl\", \"rb\"))\n",
    "pose_graph = pickle.load(open(\"pose_graph.pkl\", \"rb\"))\n",
    "map_points = pickle.load(open(\"map_points.pkl\", \"rb\"))\n",
    "\n",
    "gps_file = \"../data_processing/splitted/gps/gps.json\"\n",
    "gps = json.load(open(gps_file, \"r\"))"
   ]
  },
  {
   "cell_type": "code",
   "execution_count": 155,
   "id": "1d26e99f",
   "metadata": {},
   "outputs": [
    {
     "data": {
      "text/plain": [
       "[0,\n",
       " 1,\n",
       " 2,\n",
       " 3,\n",
       " 4,\n",
       " 5,\n",
       " 6,\n",
       " 7,\n",
       " 8,\n",
       " 9,\n",
       " 10,\n",
       " 11,\n",
       " 12,\n",
       " 13,\n",
       " 14,\n",
       " 15,\n",
       " 16,\n",
       " 17,\n",
       " 18,\n",
       " 19,\n",
       " 20,\n",
       " 21,\n",
       " 22]"
      ]
     },
     "execution_count": 155,
     "metadata": {},
     "output_type": "execute_result"
    }
   ],
   "source": [
    "nodes = list(sorted(pose_graph.nodes))#[:4]\n",
    "nodes"
   ]
  },
  {
   "cell_type": "code",
   "execution_count": 156,
   "id": "2d04a410",
   "metadata": {},
   "outputs": [],
   "source": [
    "poses = [from_twist(pose_graph.nodes[node_id][\"pose\"]) for node_id in nodes]\n",
    "positions = np.vstack([pose[1].reshape(3,) for pose in poses])"
   ]
  },
  {
   "cell_type": "code",
   "execution_count": 157,
   "id": "223a315f",
   "metadata": {},
   "outputs": [
    {
     "data": {
      "text/plain": [
       "array([[-0.00000000e+00, -0.00000000e+00, -0.00000000e+00],\n",
       "       [-8.14591492e-01, -9.09463210e-02, -5.72860775e-01],\n",
       "       [-1.60537403e+00, -7.70502078e-03, -1.22880316e+00],\n",
       "       [-2.82902626e+00,  4.04837377e-01, -1.56134414e+00],\n",
       "       [-3.86044973e+00, -3.51031875e-02, -1.42410560e+00],\n",
       "       [-4.97257062e+00, -5.83071390e-02, -1.24547158e+00],\n",
       "       [-6.10695453e+00, -6.05864488e-02, -1.13936389e+00],\n",
       "       [-7.13697960e+00, -6.60451978e-02, -1.09612323e+00],\n",
       "       [-8.18644734e+00, -8.40801513e-02, -1.04876476e+00],\n",
       "       [-9.29319499e+00, -9.86661580e-02, -1.04579151e+00],\n",
       "       [-1.03106194e+01, -1.13147087e-01, -1.06564107e+00],\n",
       "       [-1.13245181e+01, -1.26835312e-01, -1.08058530e+00],\n",
       "       [-1.23966850e+01, -1.37184379e-01, -1.11768143e+00],\n",
       "       [-1.34356304e+01, -1.52274175e-01, -1.14550233e+00],\n",
       "       [-1.45610269e+01, -1.78384950e-01, -1.35129234e+00],\n",
       "       [-1.57444085e+01, -2.01029522e-01, -1.48047741e+00],\n",
       "       [-1.68865655e+01, -2.24636292e-01, -1.62085796e+00],\n",
       "       [-1.80613869e+01, -2.48573289e-01, -1.70892231e+00],\n",
       "       [-1.92190810e+01, -2.71695008e-01, -1.81708531e+00],\n",
       "       [-2.03684125e+01, -2.92697145e-01, -1.87624988e+00],\n",
       "       [-2.15265273e+01, -3.16103215e-01, -1.96929439e+00],\n",
       "       [-2.25023044e+01, -3.37021213e-01, -2.07586946e+00],\n",
       "       [-2.35031784e+01, -3.59705497e-01, -2.15118521e+00]])"
      ]
     },
     "execution_count": 157,
     "metadata": {},
     "output_type": "execute_result"
    }
   ],
   "source": [
    "positions"
   ]
  },
  {
   "cell_type": "code",
   "execution_count": 158,
   "id": "fe0ca8cb",
   "metadata": {},
   "outputs": [
    {
     "data": {
      "text/plain": [
       "array([[10.51974194, 49.32741556,  0.        ],\n",
       "       [10.51973139, 49.32741556,  0.        ],\n",
       "       [10.51972   , 49.32740778,  0.        ],\n",
       "       [10.5197    , 49.32739639,  0.        ],\n",
       "       [10.51968   , 49.32740028,  0.        ],\n",
       "       [10.51966194, 49.32740389,  0.        ],\n",
       "       [10.51966194, 49.32740389,  0.        ],\n",
       "       [10.51963889, 49.32740778,  0.        ],\n",
       "       [10.51961694, 49.32741167,  0.        ],\n",
       "       [10.51959889, 49.32741167,  0.        ],\n",
       "       [10.51958   , 49.32741167,  0.        ],\n",
       "       [10.51958   , 49.32741167,  0.        ],\n",
       "       [10.51955694, 49.32741167,  0.        ],\n",
       "       [10.51953306, 49.32741167,  0.        ],\n",
       "       [10.51950833, 49.32741167,  0.        ],\n",
       "       [10.51950833, 49.32741167,  0.        ],\n",
       "       [10.51948361, 49.32741167,  0.        ],\n",
       "       [10.51945778, 49.32740778,  0.        ],\n",
       "       [10.51945778, 49.32740778,  0.        ],\n",
       "       [10.51943194, 49.32740778,  0.        ],\n",
       "       [10.51940722, 49.32740778,  0.        ],\n",
       "       [10.51940722, 49.32740778,  0.        ],\n",
       "       [10.5193825 , 49.32740778,  0.        ]])"
      ]
     },
     "execution_count": 158,
     "metadata": {},
     "output_type": "execute_result"
    }
   ],
   "source": [
    "# get GPS positions of each key frame\n",
    "keyframe_idxs =  [int(pose_graph.nodes[node_id][\"frame_name\"][6:]) for node_id in nodes]\n",
    "gps_positions = np.zeros((len(keyframe_idxs), 3))\n",
    "gps_positions[:, 0:2] = np.array([gps[idx] for idx in keyframe_idxs])\n",
    "gps_positions"
   ]
  },
  {
   "cell_type": "code",
   "execution_count": 159,
   "id": "7e06fbb1",
   "metadata": {},
   "outputs": [
    {
     "data": {
      "text/plain": [
       "(1.5312240158658566e-05,\n",
       " [-1.7759397377950876, -0.028089352872472186, -0.05174011800382582],\n",
       " array([ 1.05197443e+01,  4.93274193e+01, -1.22120713e-06]))"
      ]
     },
     "execution_count": 159,
     "metadata": {},
     "output_type": "execute_result"
    }
   ],
   "source": [
    "# compute scaling, rotation and translation between GPs trajectory and camera trajectory\n",
    "affine = affine_matrix_from_points(positions.T, gps_positions.T, shear=False, scale=True, usesvd=True)\n",
    "scale, _, angles, translate, _ = decompose_matrix(affine)\n",
    "scale = scale[0]\n",
    "scale, angles, translate"
   ]
  },
  {
   "cell_type": "code",
   "execution_count": 160,
   "id": "143d188a",
   "metadata": {},
   "outputs": [
    {
     "name": "stdout",
     "output_type": "stream",
     "text": [
      "[[ 0.99826783  0.0169248   0.05634623]\n",
      " [-0.05169663 -0.20485701  0.97742573]\n",
      " [ 0.02808566 -0.97864557 -0.20362721]]\n"
     ]
    }
   ],
   "source": [
    "# compute rotation matrix from Euler angles\n",
    "R = rotations.active_matrix_from_extrinsic_euler_xyz(angles)\n",
    "print(R)"
   ]
  },
  {
   "cell_type": "code",
   "execution_count": 161,
   "id": "8a61d936",
   "metadata": {},
   "outputs": [],
   "source": [
    "positions *= scale\n",
    "positions_mapped = np.matmul(R, positions.T).T + translate"
   ]
  },
  {
   "cell_type": "code",
   "execution_count": 162,
   "id": "f321db04",
   "metadata": {},
   "outputs": [
    {
     "data": {
      "text/plain": [
       "array([[ 1.05197443e+01,  4.93274193e+01, -1.22120713e-06],\n",
       "       [ 1.05197314e+01,  4.93274117e+01,  1.57750157e-06],\n",
       "       [ 1.05197187e+01,  4.93274023e+01,  2.03525084e-06],\n",
       "       [ 1.05196998e+01,  4.93273970e+01, -3.63618057e-06],\n",
       "       [ 1.05196841e+01,  4.93274012e+01,  2.08496505e-06],\n",
       "       [ 1.05196672e+01,  4.93274048e+01,  1.39743093e-06],\n",
       "       [ 1.05196500e+01,  4.93274073e+01,  6.12897644e-07],\n",
       "       [ 1.05196343e+01,  4.93274088e+01,  1.16907729e-07],\n",
       "       [ 1.05196183e+01,  4.93274104e+01, -2.11825213e-07],\n",
       "       [ 1.05196013e+01,  4.93274114e+01, -4.78482406e-07],\n",
       "       [ 1.05195858e+01,  4.93274119e+01, -6.37139062e-07],\n",
       "       [ 1.05195703e+01,  4.93274125e+01, -8.21453127e-07],\n",
       "       [ 1.05195538e+01,  4.93274129e+01, -1.01179445e-06],\n",
       "       [ 1.05195379e+01,  4.93274133e+01, -1.14572771e-06],\n",
       "       [ 1.05195205e+01,  4.93274112e+01, -5.96781822e-07],\n",
       "       [ 1.05195023e+01,  4.93274103e+01, -3.63567934e-07],\n",
       "       [ 1.05194847e+01,  4.93274092e+01, -6.32991034e-08],\n",
       "       [ 1.05194667e+01,  4.93274088e+01,  6.47495423e-08],\n",
       "       [ 1.05194489e+01,  4.93274082e+01,  2.50614017e-07],\n",
       "       [ 1.05194313e+01,  4.93274083e+01,  2.55535847e-07],\n",
       "       [ 1.05194135e+01,  4.93274079e+01,  3.98341214e-07],\n",
       "       [ 1.05193985e+01,  4.93274071e+01,  6.24465449e-07],\n",
       "       [ 1.05193831e+01,  4.93274069e+01,  7.68798699e-07]])"
      ]
     },
     "execution_count": 162,
     "metadata": {},
     "output_type": "execute_result"
    }
   ],
   "source": [
    "positions_mapped"
   ]
  },
  {
   "cell_type": "code",
   "execution_count": 163,
   "id": "a6d188db",
   "metadata": {},
   "outputs": [
    {
     "data": {
      "image/png": "[encoded data removed]",
      "text/plain": [
       "<Figure size 432x288 with 1 Axes>"
      ]
     },
     "metadata": {
      "needs_background": "light"
     },
     "output_type": "display_data"
    },
    {
     "data": {
      "image/png": "[encoded data removed]",
      "text/plain": [
       "<Figure size 432x288 with 1 Axes>"
      ]
     },
     "metadata": {
      "needs_background": "light"
     },
     "output_type": "display_data"
    }
   ],
   "source": [
    "plt.scatter(gps_positions[:, 0], gps_positions[:, 1])\n",
    "plt.scatter(positions_mapped[:, 0], positions_mapped[:, 1])\n",
    "#plt.ylim([49.32739, 49.3275])\n",
    "plt.show()\n",
    "plt.scatter(positions[:, 0], positions[:, 1])\n",
    "plt.show()"
   ]
  },
  {
   "cell_type": "code",
   "execution_count": null,
   "id": "09399ddf",
   "metadata": {},
   "outputs": [],
   "source": []
  },
  {
   "cell_type": "code",
   "execution_count": null,
   "id": "9d958628",
   "metadata": {},
   "outputs": [],
   "source": []
  }
 ],
 "metadata": {
  "kernelspec": {
   "display_name": "Python 3",
   "language": "python",
   "name": "python3"
  },
  "language_info": {
   "codemirror_mode": {
    "name": "ipython",
    "version": 3
   },
   "file_extension": ".py",
   "mimetype": "text/x-python",
   "name": "python",
   "nbconvert_exporter": "python",
   "pygments_lexer": "ipython3",
   "version": "3.6.9"
  }
 },
 "nbformat": 4,
 "nbformat_minor": 5
}
