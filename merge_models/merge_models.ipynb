{
 "cells": [
  {
   "cell_type": "code",
   "execution_count": null,
   "id": "509d0c03",
   "metadata": {},
   "outputs": [],
   "source": [
    "# TODO:\n",
    "# starting from first model, try to register other models sequentially as follows:\n",
    "# - align GPS positions by transforming both models into ECEF frame\n",
    "# - find pairs of spatially adjacent keyframes in both models\n",
    "# - find matches between those pairs of frames\n",
    "# - find rigid transformation which maps the second model into the cooridnate frame of the first model\n",
    "# - validate correctness based on heuristics (see Strecha_2010.pdf)\n",
    "# - continue with next model\n",
    "\n",
    "# finally:\n",
    "# bundle adjust composite model"
   ]
  },
  {
   "cell_type": "code",
   "execution_count": 12,
   "id": "0ef23d65",
   "metadata": {},
   "outputs": [],
   "source": [
    "import sys\n",
    "import os\n",
    "import json\n",
    "import pickle\n",
    "import numpy as np\n",
    "import matplotlib.pyplot as plt\n",
    "\n",
    "sys.path.append(\"..\")\n",
    "\n",
    "from mapper.geometry import from_twist, transform_to_gps_frame\n",
    "from mapper.gps import gps_to_ltp, interpolate_gps"
   ]
  },
  {
   "cell_type": "code",
   "execution_count": 2,
   "id": "756c9b9b",
   "metadata": {},
   "outputs": [
    {
     "name": "stdout",
     "output_type": "stream",
     "text": [
      "Origin of local tangent plane: lat: 49.32741555555556 deg -- long: 10.519741944444446 deg -- height: 0.0 m\n"
     ]
    }
   ],
   "source": [
    "gps_file = \"../data_processing/splitted/gps/gps.json\"\n",
    "gps_ = json.load(open(gps_file, \"r\"))\n",
    "gps = np.zeros((len(gps_), 3))\n",
    "gps[:, 0:2] = np.array(gps_)\n",
    "gps, _ = gps_to_ltp(gps)\n",
    "gps = interpolate_gps(gps)"
   ]
  },
  {
   "cell_type": "code",
   "execution_count": 5,
   "id": "78552483",
   "metadata": {},
   "outputs": [
    {
     "name": "stdout",
     "output_type": "stream",
     "text": [
      "similarity transform map -> GPS frame: 1.4438141579585926, [ 0.3577161  -0.00149537 -0.05267162], [[ 0.99942181  0.03263341  0.00954529]\n",
      " [-0.0033342  -0.18532006  0.98267256]\n",
      " [ 0.03383689 -0.98213621 -0.1851041 ]]\n",
      "pts_3d.mean:  [-29.91451788  12.39965382  -3.22876652]\n"
     ]
    }
   ],
   "source": [
    "# load first model\n",
    "pose_graph_0 = pickle.load(open(\"pose_graph_cluster_000001.pkl\", \"rb\"))\n",
    "map_points_0 = pickle.load(open(\"map_points_cluster_000001.pkl\", \"rb\"))\n",
    "\n",
    "_ = transform_to_gps_frame(pose_graph_0, map_points_0, gps)"
   ]
  },
  {
   "cell_type": "code",
   "execution_count": 6,
   "id": "51e0e1f8",
   "metadata": {},
   "outputs": [
    {
     "name": "stdout",
     "output_type": "stream",
     "text": [
      "similarity transform map -> GPS frame: 0.8959923479577812, [-65.50652708 -10.23179974  -0.30995525], [[ 0.99019348  0.01633315  0.13874474]\n",
      " [-0.13645021 -0.09998559  0.98558826]\n",
      " [ 0.02997024 -0.99485482 -0.09677642]]\n",
      "pts_3d.mean:  [-20.21878596   4.69482401  -0.6799309 ]\n"
     ]
    }
   ],
   "source": [
    "# load second model\n",
    "pose_graph_1 = pickle.load(open(\"pose_graph_cluster_000002.pkl\", \"rb\"))\n",
    "map_points_1 = pickle.load(open(\"map_points_cluster_000002.pkl\", \"rb\"))\n",
    "\n",
    "_ = transform_to_gps_frame(pose_graph_1, map_points_1, gps)"
   ]
  },
  {
   "cell_type": "code",
   "execution_count": 23,
   "id": "de9b7ba7",
   "metadata": {},
   "outputs": [],
   "source": [
    "pos_0 = np.array([from_twist(pose_graph_0.nodes[n][\"pose\"])[1] for n in pose_graph_0])\n",
    "pos_1 = np.array([from_twist(pose_graph_1.nodes[n][\"pose\"])[1] for n in pose_graph_1])"
   ]
  },
  {
   "cell_type": "code",
   "execution_count": 22,
   "id": "58675e20",
   "metadata": {},
   "outputs": [
    {
     "data": {
      "text/plain": [
       "<matplotlib.collections.PathCollection at 0x7fe455d16ba8>"
      ]
     },
     "execution_count": 22,
     "metadata": {},
     "output_type": "execute_result"
    },
    {
     "data": {
      "image/png": "[encoded data removed]",
      "text/plain": [
       "<Figure size 432x288 with 1 Axes>"
      ]
     },
     "metadata": {
      "needs_background": "light"
     },
     "output_type": "display_data"
    }
   ],
   "source": [
    "plt.scatter(gps[:1500, 0], gps[:1500, 1], c=\"g\")\n",
    "plt.scatter(pos_0[:, 0], pos_0[:, 1], c=\"r\")"
   ]
  },
  {
   "cell_type": "code",
   "execution_count": 32,
   "id": "a79860c2",
   "metadata": {},
   "outputs": [
    {
     "data": {
      "text/plain": [
       "<matplotlib.collections.PathCollection at 0x7fe4559442b0>"
      ]
     },
     "execution_count": 32,
     "metadata": {},
     "output_type": "execute_result"
    },
    {
     "data": {
      "image/png": "[encoded data removed]",
      "text/plain": [
       "<Figure size 432x288 with 1 Axes>"
      ]
     },
     "metadata": {
      "needs_background": "light"
     },
     "output_type": "display_data"
    }
   ],
   "source": [
    "plt.scatter(gps[1800:3600, 0], gps[1800:3600, 1], c=\"g\")\n",
    "plt.scatter(pos_1[:, 0], pos_1[:, 1], c=\"r\")"
   ]
  },
  {
   "cell_type": "code",
   "execution_count": null,
   "id": "bfe9afcd",
   "metadata": {},
   "outputs": [],
   "source": [
    "# obtain spatially adjacent frames\n"
   ]
  },
  {
   "cell_type": "code",
   "execution_count": null,
   "id": "a464722f",
   "metadata": {},
   "outputs": [],
   "source": [
    "# once we know which 3D points correspond to another, we can obtain a rigid transformation (rotation only) for the second model which best aligns the points"
   ]
  }
 ],
 "metadata": {
  "kernelspec": {
   "display_name": "Python 3",
   "language": "python",
   "name": "python3"
  },
  "language_info": {
   "codemirror_mode": {
    "name": "ipython",
    "version": 3
   },
   "file_extension": ".py",
   "mimetype": "text/x-python",
   "name": "python",
   "nbconvert_exporter": "python",
   "pygments_lexer": "ipython3",
   "version": "3.6.9"
  }
 },
 "nbformat": 4,
 "nbformat_minor": 5
}
