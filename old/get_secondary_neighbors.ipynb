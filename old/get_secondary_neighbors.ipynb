{
 "cells": [
  {
   "cell_type": "code",
   "execution_count": 1,
   "id": "5b358755",
   "metadata": {},
   "outputs": [],
   "source": [
    "import networkx as nx\n",
    "import pickle\n",
    "import glob\n",
    "import copy\n",
    "import cv2\n",
    "import numpy as np\n",
    "import matplotlib.pyplot as plt\n",
    "from collections import Counter, defaultdict\n",
    "from scipy.spatial.distance import pdist, squareform\n",
    "from scipy.spatial import KDTree\n",
    "\n",
    "import sys\n",
    "sys.path.append(\"..\")"
   ]
  },
  {
   "cell_type": "code",
   "execution_count": 2,
   "id": "6e725a4b",
   "metadata": {},
   "outputs": [],
   "source": [
    "camera_matrix = pickle.load(open(\"../camera_calibration/parameters/ir/camera_matrix.pkl\", \"rb\"))\n",
    "pose_graph = pickle.load(open(\"pose_graph.pkl\", \"rb\"))\n",
    "map_points = pickle.load(open(\"map_points.pkl\", \"rb\"))"
   ]
  },
  {
   "cell_type": "code",
   "execution_count": 3,
   "id": "c2c88af3",
   "metadata": {},
   "outputs": [
    {
     "data": {
      "text/plain": [
       "<networkx.classes.graph.Graph at 0x7fad3722c4a8>"
      ]
     },
     "execution_count": 3,
     "metadata": {},
     "output_type": "execute_result"
    }
   ],
   "source": [
    "pose_graph"
   ]
  },
  {
   "cell_type": "code",
   "execution_count": 4,
   "id": "605ce831",
   "metadata": {},
   "outputs": [],
   "source": [
    "def get_neighbors(pose_graph, node_id):\n",
    "    \"\"\"Returns the node_ids of direct neighbors of the node specified by node_id.\"\"\"\n",
    "    neighbors_keyframes = [node_id for _, node_id in sorted(\n",
    "        pose_graph.edges(newest_node_id))]\n",
    "    return neighbors_keyframes"
   ]
  },
  {
   "cell_type": "code",
   "execution_count": 5,
   "id": "035cd28a",
   "metadata": {},
   "outputs": [
    {
     "name": "stdout",
     "output_type": "stream",
     "text": [
      "Bundle adjustment for keyframe 8\n",
      "Neighboring keyframes: [3, 4, 5, 6, 7]\n"
     ]
    }
   ],
   "source": [
    "newest_node_id = list(sorted(pose_graph.nodes))[-1]\n",
    "print(\"Bundle adjustment for keyframe {}\".format(newest_node_id))\n",
    "\n",
    "# get node_ids of neighboring keyframes\n",
    "neighbors_keyframes = get_neighbors(pose_graph, newest_node_id)\n",
    "print(\"Neighboring keyframes: {}\".format(neighbors_keyframes))\n",
    "\n",
    "nodes = [*neighbors_keyframes, newest_node_id]"
   ]
  },
  {
   "cell_type": "code",
   "execution_count": 12,
   "id": "1682f17a",
   "metadata": {},
   "outputs": [
    {
     "data": {
      "text/plain": [
       "[3, 4, 5, 6, 7]"
      ]
     },
     "execution_count": 12,
     "metadata": {},
     "output_type": "execute_result"
    }
   ],
   "source": [
    "sorted(list(pose_graph.neighbors(newest_node_id)))"
   ]
  },
  {
   "cell_type": "code",
   "execution_count": 6,
   "id": "8d613a08",
   "metadata": {},
   "outputs": [
    {
     "data": {
      "text/plain": [
       "[[6, 2, 3, 4, 5, 8],\n",
       " [2, 0, 1, 4, 5, 6, 7, 8],\n",
       " [3, 0, 1, 2, 5, 6, 7, 8],\n",
       " [4, 0, 1, 2, 3, 6, 7, 8],\n",
       " [5, 0, 1, 2, 3, 4, 7, 8]]"
      ]
     },
     "execution_count": 6,
     "metadata": {},
     "output_type": "execute_result"
    }
   ],
   "source": [
    "[list(pose_graph.neighbors(n)) for n in pose_graph.neighbors(newest_node_id)]"
   ]
  },
  {
   "cell_type": "code",
   "execution_count": 33,
   "id": "88143651",
   "metadata": {},
   "outputs": [
    {
     "data": {
      "text/plain": [
       "{0, 1, 2}"
      ]
     },
     "execution_count": 33,
     "metadata": {},
     "output_type": "execute_result"
    }
   ],
   "source": [
    "# We want to perform local BA with [3, 4, 5, 6, 7] + [8]\n",
    "# We also want to include direct neighbors of all those neighbors as fixed vertices\n",
    "\n",
    "def second_neighbors(graph, node):\n",
    "    \"\"\"Yield second neighbors of node in graph.\n",
    "    Note: Neighbors are not not unique.\n",
    "    \"\"\"\n",
    "    for neighbor_list in [graph.neighbors(n) for n in graph.neighbors(node)]:\n",
    "        for n in neighbor_list:\n",
    "            if (n != node) and (n not in graph.neighbors(node)):\n",
    "                yield n\n",
    "            \n",
    "set(second_neighbors(pose_graph, newest_node_id))"
   ]
  },
  {
   "cell_type": "code",
   "execution_count": 9,
   "id": "e7bcf86c",
   "metadata": {},
   "outputs": [
    {
     "data": {
      "text/plain": [
       "[0, 1, 2]"
      ]
     },
     "execution_count": 9,
     "metadata": {},
     "output_type": "execute_result"
    }
   ],
   "source": [
    "\n",
    "def get_second_neighbors(pose_graph, node_id):\n",
    "    \"\"\"Returns second neighbors of node with node_id in pose graph.\"\"\"\n",
    "    second_neighbors = []\n",
    "    for neighbor_list in [pose_graph.neighbors(n) for n in pose_graph.neighbors(node_id)]:\n",
    "        for n in neighbor_list:\n",
    "            if (n != node_id) and (n not in pose_graph.neighbors(node_id)):\n",
    "                second_neighbors.append(n)\n",
    "    return list(set(second_neighbors))\n",
    "            \n",
    "get_second_neighbors(pose_graph, newest_node_id)"
   ]
  },
  {
   "cell_type": "code",
   "execution_count": null,
   "id": "dddce71f",
   "metadata": {},
   "outputs": [],
   "source": []
  }
 ],
 "metadata": {
  "kernelspec": {
   "display_name": "Python 3",
   "language": "python",
   "name": "python3"
  },
  "language_info": {
   "codemirror_mode": {
    "name": "ipython",
    "version": 3
   },
   "file_extension": ".py",
   "mimetype": "text/x-python",
   "name": "python",
   "nbconvert_exporter": "python",
   "pygments_lexer": "ipython3",
   "version": "3.6.9"
  }
 },
 "nbformat": 4,
 "nbformat_minor": 5
}
