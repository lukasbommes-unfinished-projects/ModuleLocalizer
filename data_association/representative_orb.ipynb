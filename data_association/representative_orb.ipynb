{
 "cells": [
  {
   "cell_type": "code",
   "execution_count": 5,
   "id": "f124e0b7",
   "metadata": {},
   "outputs": [],
   "source": [
    "import pickle\n",
    "import copy\n",
    "import numpy as np\n",
    "import g2o\n",
    "import cv2\n",
    "import matplotlib.pyplot as plt\n",
    "from mpl_toolkits.mplot3d import Axes3D\n",
    "\n",
    "import sys\n",
    "sys.path.append(\"..\")\n",
    "from mapper.geometry import from_twist, to_twist\n",
    "\n",
    "np.random.seed(0)"
   ]
  },
  {
   "cell_type": "code",
   "execution_count": 6,
   "id": "1429d7d1",
   "metadata": {},
   "outputs": [],
   "source": [
    "def extract_keypoints(frame, fast, orb, use_ssc=False,\n",
    "    ssc_num_retain_points=3000, ssc_threshold=0.1):\n",
    "    \"\"\"Extracts FAST feature points and ORB descriptors in the frame.\"\"\"\n",
    "    kp = fast.detect(frame, None)\n",
    "    kp = sorted(kp, key = lambda x:x.response, reverse=True)\n",
    "    kp, des = orb.compute(frame, kp)\n",
    "    return kp, des\n",
    "\n",
    "\n",
    "def match(bf, last_keyframe, frame, last_des, des, last_kp, kp, distance_threshold=30.0, draw=True):\n",
    "    matches = bf.match(last_des, des)\n",
    "    matches = sorted(matches, key = lambda x:x.distance)\n",
    "    # filter out matches with distance (descriptor appearance) greater than threshold\n",
    "    matches = [m for m in matches if m.distance < distance_threshold]\n",
    "    print(\"Found {} matches of current frame with last key frame\".format(len(matches)))\n",
    "    last_pts = np.array([last_kp[m.queryIdx].pt for m in matches]).reshape(1, -1, 2)\n",
    "    current_pts = np.array([kp[m.trainIdx].pt for m in matches]).reshape(1, -1, 2)\n",
    "    match_frame = np.zeros_like(frame)\n",
    "    if draw:\n",
    "        match_frame = cv2.drawMatches(last_keyframe, last_kp, frame, kp, matches, None)\n",
    "    return matches, last_pts, current_pts, match_frame\n",
    "\n",
    "\n",
    "def to_celsius(image):\n",
    "    \"\"\"Convert raw intensity values of radiometric image to Celsius scale.\"\"\"\n",
    "    return image*0.04-273.15\n",
    "\n",
    "\n",
    "def preprocess_radiometric_frame(frame, equalize_hist=True):\n",
    "    \"\"\"Preprocesses raw radiometric frame.\n",
    "\n",
    "    First, the raw 16-bit radiometric intensity values are converted to Celsius\n",
    "    scale. Then, the image values are normalized to range [0, 255] and converted\n",
    "    to 8-bit. Finally, histogram equalization is performed to normalize\n",
    "    brightness and enhance contrast.\n",
    "    \"\"\"\n",
    "    frame = to_celsius(frame)\n",
    "    frame = (frame - np.min(frame)) / (np.max(frame) - np.min(frame))\n",
    "    frame = (frame*255.0).astype(np.uint8)\n",
    "    if equalize_hist:\n",
    "        frame = cv2.equalizeHist(frame)\n",
    "    return frame"
   ]
  },
  {
   "cell_type": "code",
   "execution_count": 8,
   "id": "8b4c824d",
   "metadata": {},
   "outputs": [],
   "source": [
    "img0 = cv2.imread(\"../data_processing/splitted/radiometric/frame_000112.tiff\", cv2.IMREAD_ANYDEPTH)\n",
    "img0 = preprocess_radiometric_frame(img0)\n",
    "\n",
    "img1 = cv2.imread(\"../data_processing/splitted/radiometric/frame_000138.tiff\", cv2.IMREAD_ANYDEPTH)\n",
    "img1 = preprocess_radiometric_frame(img1)"
   ]
  },
  {
   "cell_type": "code",
   "execution_count": 9,
   "id": "d204be34",
   "metadata": {},
   "outputs": [],
   "source": [
    "orb = cv2.ORB_create()\n",
    "fast = cv2.FastFeatureDetector_create(threshold=12, nonmaxSuppression=True)\n",
    "bf = cv2.BFMatcher(cv2.NORM_HAMMING, crossCheck=True)\n",
    "\n",
    "kp0, des0 = extract_keypoints(img0, fast, orb)\n",
    "kp1, des1 = extract_keypoints(img1, fast, orb)"
   ]
  },
  {
   "cell_type": "code",
   "execution_count": 10,
   "id": "912e49d0",
   "metadata": {},
   "outputs": [
    {
     "name": "stdout",
     "output_type": "stream",
     "text": [
      "Found 614 matches of current frame with last key frame\n"
     ]
    }
   ],
   "source": [
    "matches, last_pts, current_pts, match_frame = match(bf, img0, img1, des0, des1, kp0, kp1, 20.0, draw=False)"
   ]
  },
  {
   "cell_type": "code",
   "execution_count": 11,
   "id": "8fbed128",
   "metadata": {},
   "outputs": [
    {
     "data": {
      "text/plain": [
       "(32,)"
      ]
     },
     "execution_count": 11,
     "metadata": {},
     "output_type": "execute_result"
    }
   ],
   "source": [
    "des0[2382].shape"
   ]
  },
  {
   "cell_type": "code",
   "execution_count": 12,
   "id": "2abfe65d",
   "metadata": {},
   "outputs": [
    {
     "data": {
      "text/plain": [
       "(2382, 2967)"
      ]
     },
     "execution_count": 12,
     "metadata": {},
     "output_type": "execute_result"
    }
   ],
   "source": [
    "matches[0].queryIdx, matches[0].trainIdx"
   ]
  },
  {
   "cell_type": "code",
   "execution_count": 13,
   "id": "53a59638",
   "metadata": {},
   "outputs": [
    {
     "name": "stdout",
     "output_type": "stream",
     "text": [
      "[ 14 221  50 135 241  94 182 172  61 236  79   1 204 126  15 196 182 127\n",
      " 147  99 116 144  89 238  47 119  15   7   2 119 141 215]\n",
      "[ 14 221  48 135 241  94 182 172  61 236  79   1 204 126  15 196 182 127\n",
      " 147  99 116 144  89 238  47 119  15   7   2 119 141 215]\n",
      "1.0\n"
     ]
    }
   ],
   "source": [
    "print(des0[matches[0].queryIdx])\n",
    "print(des1[matches[0].trainIdx])\n",
    "print(cv2.norm(des0[matches[0].queryIdx], des1[matches[0].trainIdx], cv2.NORM_HAMMING))"
   ]
  },
  {
   "cell_type": "code",
   "execution_count": 14,
   "id": "3a33c1da",
   "metadata": {},
   "outputs": [
    {
     "name": "stdout",
     "output_type": "stream",
     "text": [
      "[array([ 14, 221,  50, 135, 241,  94, 182, 172,  61, 236,  79,   1, 204,\n",
      "       126,  15, 196, 182, 127, 147,  99, 116, 144,  89, 238,  47, 119,\n",
      "        15,   7,   2, 119, 141, 215], dtype=uint8), array([ 14, 221,  48, 135, 241,  94, 182, 172,  61, 236,  79,   1, 204,\n",
      "       126,  15, 196, 182, 127, 147,  99, 116, 144,  89, 238,  47, 119,\n",
      "        15,   7,   2, 119, 141, 215], dtype=uint8), array([ 12, 222,  49, 133, 242,  95, 183, 173,  60, 237,  78,   1, 202,\n",
      "       127,  15, 194, 180, 125, 147,  98, 116, 145,  90, 238,  45, 118,\n",
      "        14,   6,   1, 117, 140, 213]), array([ 15, 219,  51, 134, 241,  95, 183, 170,  61, 237,  77,   0, 205,\n",
      "       125,  16, 197, 182, 128, 145,  98, 115, 143,  90, 236,  48, 119,\n",
      "        13,   8,   3, 119, 142, 215]), array([ 15, 219,  50, 133, 239,  92, 181, 171,  61, 234,  77,   0, 205,\n",
      "       124,  14, 196, 182, 128, 145,  98, 115, 145,  88, 237,  48, 119,\n",
      "        16,   8,   2, 119, 142, 213]), array([197,  48,  29,  97,   1,  78,  96,  56, 104, 184,  35,  72, 214,\n",
      "        19,  72,  59, 144,  84, 104, 122,  49, 244, 217,  12, 205, 186,\n",
      "        65,  86, 200,  35,  67,  34], dtype=uint8)]\n",
      "(6, 32)\n",
      "[[0.      0.03125 0.84375 0.8125  0.78125 1.     ]\n",
      " [0.03125 0.      0.84375 0.8125  0.8125  1.     ]\n",
      " [0.84375 0.84375 0.      0.84375 0.875   1.     ]\n",
      " [0.8125  0.8125  0.84375 0.      0.5     1.     ]\n",
      " [0.78125 0.8125  0.875   0.5     0.      1.     ]\n",
      " [1.      1.      1.      1.      1.      0.     ]]\n",
      "[3.46875 3.5     4.40625 3.96875 3.96875 5.     ]\n",
      "0\n"
     ]
    },
    {
     "data": {
      "text/plain": [
       "array([ 14, 221,  50, 135, 241,  94, 182, 172,  61, 236,  79,   1, 204,\n",
       "       126,  15, 196, 182, 127, 147,  99, 116, 144,  89, 238,  47, 119,\n",
       "        15,   7,   2, 119, 141, 215])"
      ]
     },
     "execution_count": 14,
     "metadata": {},
     "output_type": "execute_result"
    }
   ],
   "source": [
    "from scipy.spatial.distance import pdist, squareform\n",
    "\n",
    "def get_representative_orb(descriptors):\n",
    "    \"\"\"Returns a representative ORB descriptor in a list of descriptors.\n",
    "    \n",
    "    Args:\n",
    "        descriptors (`list` of `numpy.ndarray`): Each list item is an ORB\n",
    "            descriptor of dtype uint8 and shape (32,).\n",
    "    \n",
    "    Returns:\n",
    "        representative_orb (`numpy.ndarray`): The representative ORB descriptor \n",
    "        which is the one with smallest Hamming distance to all other descriptors \n",
    "        in the provided list.\n",
    "    \"\"\"\n",
    "    descriptors = np.vstack(descriptors)\n",
    "    print(descriptors.shape)\n",
    "    dist = pdist(descriptors, metric=\"hamming\")\n",
    "    dist = squareform(dist)\n",
    "    print(dist)\n",
    "    print(np.sum(dist, axis=0))\n",
    "    rep_idx = np.argmin(np.sum(dist, axis=0))\n",
    "    print(rep_idx)\n",
    "    representative_orb = descriptors[rep_idx, :]\n",
    "    return representative_orb\n",
    "\n",
    "descriptors = [des0[2382], des1[2967], des0[2382] + np.random.randint(-2, 2, size=(32,)), des0[2382] + np.random.randint(-2, 2, size=(32,)), des0[2382] + np.random.randint(-2, 2, size=(32,)), des0[0]]\n",
    "print(descriptors)\n",
    "get_representative_orb(descriptors)"
   ]
  },
  {
   "cell_type": "code",
   "execution_count": null,
   "id": "edeb97f5",
   "metadata": {},
   "outputs": [],
   "source": []
  }
 ],
 "metadata": {
  "kernelspec": {
   "display_name": "Python 3",
   "language": "python",
   "name": "python3"
  },
  "language_info": {
   "codemirror_mode": {
    "name": "ipython",
    "version": 3
   },
   "file_extension": ".py",
   "mimetype": "text/x-python",
   "name": "python",
   "nbconvert_exporter": "python",
   "pygments_lexer": "ipython3",
   "version": "3.6.9"
  }
 },
 "nbformat": 4,
 "nbformat_minor": 5
}
