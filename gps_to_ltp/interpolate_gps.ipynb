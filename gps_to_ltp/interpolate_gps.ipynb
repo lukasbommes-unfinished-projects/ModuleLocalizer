{
 "cells": [
  {
   "cell_type": "markdown",
   "id": "565fbae6",
   "metadata": {},
   "source": [
    "### Linear interpolation of GPS trajectory\n",
    "\n",
    "Create \"gps.pkl\" by running \"gps_to_ltp\" script."
   ]
  },
  {
   "cell_type": "code",
   "execution_count": 7,
   "id": "52a1a565",
   "metadata": {},
   "outputs": [],
   "source": [
    "import pickle\n",
    "import numpy as np\n",
    "import matplotlib.pyplot as plt"
   ]
  },
  {
   "cell_type": "code",
   "execution_count": 8,
   "id": "4c6845ba",
   "metadata": {},
   "outputs": [],
   "source": [
    "gps = pickle.load(open(\"gps.pkl\", \"rb\"))"
   ]
  },
  {
   "cell_type": "code",
   "execution_count": 17,
   "id": "f5668882",
   "metadata": {},
   "outputs": [
    {
     "data": {
      "text/plain": [
       "[<matplotlib.lines.Line2D at 0x7f09923af978>]"
      ]
     },
     "execution_count": 17,
     "metadata": {},
     "output_type": "execute_result"
    },
    {
     "data": {
      "image/png": "[encoded data removed]",
      "text/plain": [
       "<Figure size 432x288 with 1 Axes>"
      ]
     },
     "metadata": {
      "needs_background": "light"
     },
     "output_type": "display_data"
    }
   ],
   "source": [
    "plt.plot(gps[:300, 0])\n",
    "plt.plot(gps[:300, 1])\n",
    "plt.plot(gps[:300, 2])"
   ]
  },
  {
   "cell_type": "code",
   "execution_count": 18,
   "id": "de1a1911",
   "metadata": {},
   "outputs": [],
   "source": [
    "gps_e = gps[:300, 0]\n",
    "gps_n = gps[:300, 1]\n",
    "gps_h = gps[:300, 2]"
   ]
  },
  {
   "cell_type": "code",
   "execution_count": 19,
   "id": "95979cfa",
   "metadata": {},
   "outputs": [
    {
     "data": {
      "text/plain": [
       "array([  0.        ,   0.        ,   0.        ,   0.        ,\n",
       "         0.        ,   0.        ,   0.        ,   0.        ,\n",
       "         0.        ,   0.        ,  -0.06057581,  -0.06057581,\n",
       "        -0.06057581,  -0.06057581,  -0.06057581,  -0.06057581,\n",
       "        -0.06057581,  -0.06057581,  -0.06057581,  -0.06057581,\n",
       "        -0.06057581,  -0.06057581,  -0.06057581,  -0.06057581,\n",
       "        -0.06057581,  -0.06057581,  -0.06057581,  -0.06057581,\n",
       "        -0.06057581,  -0.06057581,  -0.06057581,  -0.06057581,\n",
       "        -0.06057581,  -0.06057581,  -0.06057581,  -0.06057581,\n",
       "        -0.06057581,  -0.06057581,  -0.06057581,  -0.06057581,\n",
       "        -0.06057581,  -0.06057581,  -0.06057581,  -0.14134355,\n",
       "        -0.14134355,  -0.14134355,  -0.14134355,  -0.14134355,\n",
       "        -0.14134355,  -0.14134355,  -0.14134355,  -0.14134355,\n",
       "        -0.14134355,  -0.14134355,  -0.14134355,  -0.14134355,\n",
       "        -0.14134355,  -0.14134355,  -0.14134355,  -0.14134355,\n",
       "        -0.14134355,  -0.14134355,  -0.14134355,  -0.14134355,\n",
       "        -0.14134355,  -0.14134355,  -0.76729356,  -0.76729356,\n",
       "        -0.76729356,  -0.76729356,  -0.76729356,  -0.76729356,\n",
       "        -0.76729356,  -0.76729356,  -0.76729356,  -0.76729356,\n",
       "        -0.76729356,  -0.76729356,  -0.76729356,  -0.76729356,\n",
       "        -0.76729356,  -0.76729356,  -0.76729356,  -0.76729356,\n",
       "        -0.76729356,  -0.76729356,  -0.76729356,  -0.76729356,\n",
       "        -0.76729356,  -0.76729356,  -0.76729356,  -0.76729356,\n",
       "        -0.76729356,  -0.76729356,  -0.76729356,  -0.76729356,\n",
       "        -0.76729356,  -0.76729356,  -0.76729356,  -0.76729356,\n",
       "        -0.76729356,  -1.59516318,  -1.59516318,  -1.59516318,\n",
       "        -1.59516318,  -1.59516318,  -1.59516318,  -1.59516318,\n",
       "        -1.59516318,  -1.59516318,  -1.59516318,  -1.59516318,\n",
       "        -1.59516318,  -1.59516318,  -1.59516318,  -1.59516318,\n",
       "        -1.59516318,  -1.59516318,  -1.59516318,  -1.59516318,\n",
       "        -1.59516318,  -1.59516318,  -1.59516318,  -1.59516318,\n",
       "        -1.59516318,  -1.59516318,  -1.59516318,  -1.59516318,\n",
       "        -1.59516318,  -1.59516318,  -1.59516318,  -1.59516318,\n",
       "        -1.59516318,  -3.04898348,  -3.04898348,  -3.04898348,\n",
       "        -3.04898348,  -3.04898348,  -3.04898348,  -3.04898348,\n",
       "        -3.04898348,  -3.04898348,  -3.04898348,  -3.04898348,\n",
       "        -3.04898348,  -3.04898348,  -3.04898348,  -3.04898348,\n",
       "        -3.04898348,  -3.04898348,  -3.04898348,  -3.04898348,\n",
       "        -3.04898348,  -3.04898348,  -3.04898348,  -3.04898348,\n",
       "        -3.04898348,  -3.04898348,  -3.04898348,  -3.04898348,\n",
       "        -4.50280307,  -4.50280307,  -4.50280307,  -4.50280307,\n",
       "        -4.50280307,  -4.50280307,  -4.50280307,  -4.50280307,\n",
       "        -4.50280307,  -4.50280307,  -4.50280307,  -4.50280307,\n",
       "        -4.50280307,  -4.50280307,  -4.50280307,  -4.50280307,\n",
       "        -4.50280307,  -4.50280307,  -4.50280307,  -4.50280307,\n",
       "        -4.50280307,  -4.50280307,  -4.50280307,  -4.50280307,\n",
       "        -4.50280307,  -4.50280307,  -4.50280307,  -4.50280307,\n",
       "        -4.50280307,  -4.50280307,  -4.50280307,  -5.81527887,\n",
       "        -5.81527887,  -5.81527887,  -5.81527887,  -5.81527887,\n",
       "        -5.81527887,  -5.81527887,  -5.81527887,  -5.81527887,\n",
       "        -5.81527887,  -5.81527887,  -5.81527887,  -5.81527887,\n",
       "        -5.81527887,  -5.81527887,  -5.81527887,  -5.81527887,\n",
       "        -5.81527887,  -5.81527887,  -5.81527887,  -5.81527887,\n",
       "        -5.81527887,  -5.81527887,  -5.81527887,  -5.81527887,\n",
       "        -5.81527887,  -5.81527887,  -5.81527887,  -5.81527887,\n",
       "        -5.81527887,  -5.81527887,  -5.81527887,  -7.49120934,\n",
       "        -7.49120934,  -7.49120934,  -7.49120934,  -7.49120934,\n",
       "        -7.49120934,  -7.49120934,  -7.49120934,  -7.49120934,\n",
       "        -7.49120934,  -7.49120934,  -7.49120934,  -7.49120934,\n",
       "        -7.49120934,  -7.49120934,  -7.49120934,  -7.49120934,\n",
       "        -7.49120934,  -7.49120934,  -7.49120934,  -7.49120934,\n",
       "        -7.49120934,  -7.49120934,  -7.49120934,  -7.49120934,\n",
       "        -7.49120934,  -9.0863718 ,  -9.0863718 ,  -9.0863718 ,\n",
       "        -9.0863718 ,  -9.0863718 ,  -9.0863718 ,  -9.0863718 ,\n",
       "        -9.0863718 ,  -9.0863718 ,  -9.0863718 ,  -9.0863718 ,\n",
       "        -9.0863718 ,  -9.0863718 ,  -9.0863718 ,  -9.0863718 ,\n",
       "        -9.0863718 ,  -9.0863718 ,  -9.0863718 ,  -9.0863718 ,\n",
       "        -9.0863718 ,  -9.0863718 ,  -9.0863718 ,  -9.0863718 ,\n",
       "        -9.0863718 ,  -9.0863718 ,  -9.0863718 ,  -9.0863718 ,\n",
       "        -9.0863718 ,  -9.0863718 ,  -9.0863718 , -10.39884773,\n",
       "       -10.39884773, -10.39884773, -10.39884773, -10.39884773,\n",
       "       -10.39884773, -10.39884773, -10.39884773, -10.39884773,\n",
       "       -10.39884773, -10.39884773, -10.39884773, -10.39884773,\n",
       "       -10.39884773, -10.39884773, -10.39884773, -10.39884773,\n",
       "       -10.39884773, -10.39884773, -10.39884773, -10.39884773])"
      ]
     },
     "execution_count": 19,
     "metadata": {},
     "output_type": "execute_result"
    }
   ],
   "source": [
    "gps_e"
   ]
  },
  {
   "cell_type": "code",
   "execution_count": null,
   "id": "220fc030",
   "metadata": {},
   "outputs": [],
   "source": []
  }
 ],
 "metadata": {
  "kernelspec": {
   "display_name": "Python 3",
   "language": "python",
   "name": "python3"
  },
  "language_info": {
   "codemirror_mode": {
    "name": "ipython",
    "version": 3
   },
   "file_extension": ".py",
   "mimetype": "text/x-python",
   "name": "python",
   "nbconvert_exporter": "python",
   "pygments_lexer": "ipython3",
   "version": "3.6.9"
  }
 },
 "nbformat": 4,
 "nbformat_minor": 5
}
