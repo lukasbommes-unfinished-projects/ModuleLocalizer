{
 "cells": [
  {
   "cell_type": "code",
   "execution_count": 1,
   "id": "98a26185",
   "metadata": {},
   "outputs": [],
   "source": [
    "import copy\n",
    "import pickle\n",
    "import numpy as np\n",
    "import cv2\n",
    "import matplotlib.pyplot as plt\n",
    "\n",
    "import sys\n",
    "sys.path.append(\"..\")\n",
    "\n",
    "from mapper.geometry import from_twist, to_twist"
   ]
  },
  {
   "cell_type": "code",
   "execution_count": 2,
   "id": "37603117",
   "metadata": {},
   "outputs": [],
   "source": [
    "camera_matrix = pickle.load(open(\"../camera_calibration/parameters/ir/camera_matrix.pkl\", \"rb\"))"
   ]
  },
  {
   "cell_type": "code",
   "execution_count": 3,
   "id": "9181c2f2",
   "metadata": {},
   "outputs": [],
   "source": [
    "pose_graph = pickle.load(open(\"pose_graph.pkl\", \"rb\"))\n",
    "map_points = pickle.load(open(\"map_points.pkl\", \"rb\"))\n",
    "last_pts = pickle.load(open(\"last_pts.pkl\", \"rb\"))\n",
    "current_pts = pickle.load(open(\"current_pts.pkl\", \"rb\"))\n",
    "matches_query_idxs = list(pickle.load(open(\"matches_query_idxs.pkl\", \"rb\")))\n",
    "current_kp = pickle.load(open(\"current_kp.pkl\", \"rb\"))\n",
    "current_kp = cv2.KeyPoint_convert(current_kp.reshape(-1, 1, 2))\n",
    "current_des = pickle.load(open(\"current_des.pkl\", \"rb\"))\n",
    "frame = pickle.load(open(\"frame.pkl\", \"rb\"))\n",
    "frame_name = pickle.load(open(\"frame_name.pkl\", \"rb\"))"
   ]
  },
  {
   "cell_type": "code",
   "execution_count": 4,
   "id": "5bcdbda9",
   "metadata": {},
   "outputs": [],
   "source": [
    "def triangulate_map_points(last_pts, current_pts, R1, t1, R2, t2, camera_matrix):\n",
    "    \"\"\"Triangulate 3D map points from corresponding points in two\n",
    "    keyframes. R1, t1, R2, t2 are the rotation and translation of\n",
    "    the two key frames w.r.t. to the map origin.\n",
    "    \"\"\"\n",
    "    # create projection matrices needed for triangulation of 3D points\n",
    "    proj_matrix1 = np.hstack([R1.T, -R1.T.dot(t1)])\n",
    "    proj_matrix2 = np.hstack([R2.T, -R2.T.dot(t2)])\n",
    "    proj_matrix1 = camera_matrix.dot(proj_matrix1)\n",
    "    proj_matrix2 = camera_matrix.dot(proj_matrix2)\n",
    "\n",
    "    # triangulate new map points based on matches with previous key frame\n",
    "    pts_3d = cv2.triangulatePoints(proj_matrix1, proj_matrix2, last_pts.reshape(-1, 2).T, current_pts.reshape(-1, 2).T).T\n",
    "    pts_3d = cv2.convertPointsFromHomogeneous(pts_3d).reshape(-1, 3)\n",
    "    return pts_3d"
   ]
  },
  {
   "cell_type": "code",
   "execution_count": 5,
   "id": "11f47a33",
   "metadata": {},
   "outputs": [],
   "source": [
    "def get_map_points_and_kps_for_matches(map_points, last_kf_index, matches_query_idxs):\n",
    "    \"\"\"Returns map points and corresponding key points for current frame.\n",
    "\n",
    "    Given matches between a current frame and the last keyframe the function\n",
    "    finds which key point in the current frame correpsonds to which key point\n",
    "    in the last key frame and returns the map points corresponding to these\n",
    "    key points. It also returns the indices in the `matches` array corresponding\n",
    "    to the returned 3D points.\n",
    "    \"\"\"\n",
    "    # get all map points observed in last KF\n",
    "    _, pts_3d, associated_kp_indices, _ = map_points.get_by_observation(last_kf_index)\n",
    "    # get indices of map points which were found again in the current frame\n",
    "    kp_idxs = []\n",
    "    match_idxs = []\n",
    "    for match_idx, matches_query_idx in enumerate(matches_query_idxs):\n",
    "        try:\n",
    "            kp_idx = associated_kp_indices.index(matches_query_idx)\n",
    "        except ValueError:\n",
    "            pass\n",
    "        else:\n",
    "            kp_idxs.append(kp_idx)\n",
    "            match_idxs.append(match_idx)\n",
    "    print((\"{} of {} ({:3.3f} %) keypoints in last key frame have been \"\n",
    "          \"found again in current frame\").format(len(match_idxs),\n",
    "          len(matches_query_idxs), len(match_idxs)/len(matches_query_idxs)))\n",
    "    # get map points according to the indices\n",
    "    pts_3d = pts_3d[np.array(kp_idxs), :]\n",
    "    return pts_3d, np.array(match_idxs)"
   ]
  },
  {
   "cell_type": "code",
   "execution_count": 6,
   "id": "d94358a2",
   "metadata": {},
   "outputs": [],
   "source": [
    "def estimate_camera_pose(last_pts, current_pts, camera_matrix, min_inliers=20):\n",
    "    \"\"\"Estimate camera pose relative to last key frame by decomposing essential\n",
    "    matrix computed from 2D-2D point correspondences in the current frame and\n",
    "    last key frame.\n",
    "    \"\"\"\n",
    "    # Note: tranlation t is only known up to scale\n",
    "    essential_mat, mask = cv2.findEssentialMat(last_pts.reshape(1, -1, 2), current_pts.reshape(1, -1, 2), camera_matrix, method=cv2.LMEDS)\n",
    "    num_inliers, R, t, mask = cv2.recoverPose(essential_mat, last_pts.reshape(1, -1, 2), current_pts.reshape(1, -1, 2), camera_matrix, mask=mask)\n",
    "    mask = mask.astype(np.bool).reshape(-1,)\n",
    "    print(\"recover pose num inliers: \", num_inliers)\n",
    "\n",
    "    if num_inliers < min_inliers:\n",
    "        raise RuntimeError(\"Could not recover camera pose.\")\n",
    "    return R, t, mask"
   ]
  },
  {
   "cell_type": "code",
   "execution_count": 7,
   "id": "ba821ea5",
   "metadata": {},
   "outputs": [
    {
     "name": "stdout",
     "output_type": "stream",
     "text": [
      "[[ 9.99912290e-01  8.02056307e-04 -1.32200575e-02]\n",
      " [-7.96665880e-04  9.99999597e-01  4.13007305e-04]\n",
      " [ 1.32203834e-02 -4.02439111e-04  9.99912526e-01]] \n",
      " [[-0.99879593]\n",
      " [-0.01785243]\n",
      " [-0.04569434]]\n",
      "[[ 9.99912290e-01  8.02056307e-04 -1.32200575e-02]\n",
      " [-7.96665880e-04  9.99999597e-01  4.13007305e-04]\n",
      " [ 1.32203834e-02 -4.02439111e-04  9.99912526e-01]] \n",
      " [[0.99879593]\n",
      " [0.01785243]\n",
      " [0.04569434]]\n",
      "[[ 9.96277676e-01  3.64233065e-02  7.81289594e-02]\n",
      " [ 3.64764586e-02 -9.99334233e-01  7.47170937e-04]\n",
      " [ 7.81041582e-02  2.10547803e-03 -9.96942981e-01]] \n",
      " [[-0.99879593]\n",
      " [-0.01785243]\n",
      " [-0.04569434]]\n",
      "[[ 9.96277676e-01  3.64233065e-02  7.81289594e-02]\n",
      " [ 3.64764586e-02 -9.99334233e-01  7.47170937e-04]\n",
      " [ 7.81041582e-02  2.10547803e-03 -9.96942981e-01]] \n",
      " [[0.99879593]\n",
      " [0.01785243]\n",
      " [0.04569434]]\n"
     ]
    }
   ],
   "source": [
    "# get all four possible solutions of decomposing the essential matrix\n",
    "essential_mat, mask = cv2.findEssentialMat(last_pts.reshape(1, -1, 2), current_pts.reshape(1, -1, 2), camera_matrix, method=cv2.LMEDS)\n",
    "R1, R2, t = cv2.decomposeEssentialMat(essential_mat)\n",
    "print(R1, \"\\n\", t)\n",
    "print(R1, \"\\n\", -t)\n",
    "print(R2, \"\\n\", t)\n",
    "print(R2, \"\\n\", -t)\n",
    "\n",
    "solutions = [\n",
    "    [R1,  t],\n",
    "    [R1, -t],\n",
    "    [R2,  t],\n",
    "    [R2, -t],\n",
    "]\n",
    "\n",
    "solutions = copy.deepcopy(solutions)"
   ]
  },
  {
   "cell_type": "code",
   "execution_count": 8,
   "id": "dbc47390",
   "metadata": {},
   "outputs": [
    {
     "name": "stdout",
     "output_type": "stream",
     "text": [
      "[[ 9.99912290e-01  8.02056307e-04 -1.32200575e-02]\n",
      " [-7.96665880e-04  9.99999597e-01  4.13007305e-04]\n",
      " [ 1.32203834e-02 -4.02439111e-04  9.99912526e-01]] [[-0.99879593]\n",
      " [-0.01785243]\n",
      " [-0.04569434]]\n",
      "121 of 400 (0.302 %) keypoints in last key frame have been found again in current frame\n",
      "median scale ratio:  0.9775504788288928\n",
      "-2.576924125555272\n",
      "reprojection error:  5.517934872781767\n",
      "positive depth points:  53\n",
      "[[ 9.99912290e-01  8.02056307e-04 -1.32200575e-02]\n",
      " [-7.96665880e-04  9.99999597e-01  4.13007305e-04]\n",
      " [ 1.32203834e-02 -4.02439111e-04  9.99912526e-01]] [[0.99879593]\n",
      " [0.01785243]\n",
      " [0.04569434]]\n",
      "121 of 400 (0.302 %) keypoints in last key frame have been found again in current frame\n",
      "median scale ratio:  0.9766443916151923\n",
      "1.9233718868986185\n",
      "reprojection error:  5.523378966250877\n",
      "positive depth points:  347\n",
      "[[ 9.96277676e-01  3.64233065e-02  7.81289594e-02]\n",
      " [ 3.64764586e-02 -9.99334233e-01  7.47170937e-04]\n",
      " [ 7.81041582e-02  2.10547803e-03 -9.96942981e-01]] [[-0.99879593]\n",
      " [-0.01785243]\n",
      " [-0.04569434]]\n",
      "121 of 400 (0.302 %) keypoints in last key frame have been found again in current frame\n",
      "median scale ratio:  0.24697753473966827\n",
      "1.7604524037589104\n",
      "reprojection error:  6.049300128492993\n",
      "positive depth points:  115\n",
      "[[ 9.96277676e-01  3.64233065e-02  7.81289594e-02]\n",
      " [ 3.64764586e-02 -9.99334233e-01  7.47170937e-04]\n",
      " [ 7.81041582e-02  2.10547803e-03 -9.96942981e-01]] [[0.99879593]\n",
      " [0.01785243]\n",
      " [0.04569434]]\n",
      "121 of 400 (0.302 %) keypoints in last key frame have been found again in current frame\n",
      "median scale ratio:  0.2425012556739689\n",
      "-2.4014260905773814\n",
      "reprojection error:  6.089653060032356\n",
      "positive depth points:  285\n",
      "best solution idx:  1\n"
     ]
    }
   ],
   "source": [
    "reprojection_errors = []\n",
    "num_positive_depth = []\n",
    "pts_3ds = []\n",
    "R_currents = []\n",
    "t_currents = []\n",
    "\n",
    "\n",
    "for R, t in solutions:\n",
    "    print(R, t)\n",
    "\n",
    "    prev_node_id = sorted(pose_graph.nodes)[-1]\n",
    "    R_last, t_last = from_twist(pose_graph.nodes[prev_node_id][\"pose\"])\n",
    "    R_current = np.matmul(R_last, R.T)\n",
    "    t_current = t_last + -np.matmul(R.T, t.reshape(3,)).reshape(3,1)\n",
    "    #print(\"pose before scale correction: \", R_current, t_current)\n",
    "\n",
    "    # filter inliers\n",
    "    #last_pts = last_pts[:, mask, :]\n",
    "    #current_pts = current_pts[:, mask, :]\n",
    "    #matches_query_idxs = list(np.array(matches_query_idxs)[mask])\n",
    "\n",
    "    # triangulate map points\n",
    "    R_prev, t_prev = from_twist(pose_graph.nodes[prev_node_id][\"pose\"])\n",
    "    pts_3d = triangulate_map_points(\n",
    "        last_pts, current_pts, R_prev, t_prev, R_current, t_current, camera_matrix)\n",
    "\n",
    "    # rescale translation t by computing the distance ratio between\n",
    "    # triangulated world points and world points in previous keyframe\n",
    "    pts_3d_prev, match_idxs = get_map_points_and_kps_for_matches(\n",
    "        map_points, prev_node_id, matches_query_idxs)\n",
    "    # find corresponding sub-array in current pts_3d\n",
    "    pts_3d_current = pts_3d[match_idxs, :]\n",
    "\n",
    "    # compute scale ratio for random pairs of points\n",
    "    num_points = np.minimum(10000, pts_3d_prev.shape[0]**2)\n",
    "    scale_ratios = []\n",
    "    for _ in range(num_points):\n",
    "        first_pt_idx, second_pt_idx = np.random.choice(\n",
    "            range(pts_3d_prev.shape[0]), size=(2,), replace=False)\n",
    "        # compute distance between the selected points\n",
    "        dist_prev = np.linalg.norm(\n",
    "            pts_3d_prev[first_pt_idx, :] - pts_3d_prev[second_pt_idx, :])\n",
    "        dist_current = np.linalg.norm(\n",
    "            pts_3d_current[first_pt_idx, :] - pts_3d_current[second_pt_idx, :])\n",
    "        scale_ratio = dist_prev / dist_current\n",
    "        scale_ratios.append(scale_ratio)\n",
    "\n",
    "    print(\"median scale ratio: \", np.median(scale_ratios))\n",
    "\n",
    "    # rescale translation using the median scale ratio\n",
    "    t_scaled = t * np.median(scale_ratios)\n",
    "\n",
    "    R_last, t_last = from_twist(pose_graph.nodes[prev_node_id][\"pose\"])\n",
    "    R_current = np.matmul(R_last, R.T)\n",
    "    t_current = t_last + -np.matmul(R.T, t_scaled.reshape(3,)).reshape(3,1)\n",
    "    #print(\"pose after scale correction: \", R_current, t_current)\n",
    "\n",
    "    # triangulate map points using the scale-corrected pose\n",
    "    pts_3d = triangulate_map_points(\n",
    "        last_pts, current_pts, R_prev, t_prev, R_current, t_current, camera_matrix)\n",
    "    \n",
    "    pts_3ds.append(pts_3d)\n",
    "    R_currents.append(R_current)\n",
    "    t_currents.append(t_current)\n",
    "    \n",
    "    print(np.mean(pts_3d))\n",
    "\n",
    "    # project triangulated points back into the camera and compute reprojection error\n",
    "    projected_pts, _ = cv2.projectPoints(pts_3d, R_current.T, -R_current.T.dot(t_current), camera_matrix, None)\n",
    "    reprojection_error = np.mean(np.linalg.norm(projected_pts.reshape(-1, 2) - current_pts.reshape(-1, 2), axis=1))\n",
    "    #reprojection_error = np.linalg.norm(projected_pts.reshape(-1, 2) - current_pts.reshape(-1, 2))\n",
    "    print(\"reprojection error: \", reprojection_error)\n",
    "    \n",
    "    # project points into camera coordinates and compute the fraction of points with positive depth\n",
    "    pts_3d_homogenous = cv2.convertPointsToHomogeneous(pts_3d.reshape(-1, 3)).reshape(-1, 4)\n",
    "    proj_matrix = np.hstack([R_current, R_current.dot(t_current)])\n",
    "    points = np.matmul(proj_matrix, pts_3d_homogenous.T).T\n",
    "    num_points_positive_depth = np.sum(points[:, -1] > 0)\n",
    "    print(\"positive depth points: \", num_points_positive_depth)\n",
    "    \n",
    "    reprojection_errors.append(reprojection_error)\n",
    "    num_positive_depth.append(num_points_positive_depth)\n",
    "    \n",
    "# select soltuion with smallest reprojection error and most points with positive depth\n",
    "a = 1.0 - reprojection_errors / np.max(reprojection_errors)\n",
    "b = num_positive_depth / np.max(num_positive_depth)\n",
    "best_solution_idx = np.argmax(a * b)\n",
    "print(\"best solution idx: \", best_solution_idx)"
   ]
  },
  {
   "cell_type": "code",
   "execution_count": 9,
   "id": "461576c6",
   "metadata": {},
   "outputs": [
    {
     "name": "stdout",
     "output_type": "stream",
     "text": [
      "[[ 9.99912290e-01  8.02056307e-04 -1.32200575e-02]\n",
      " [-7.96665880e-04  9.99999597e-01  4.13007305e-04]\n",
      " [ 1.32203834e-02 -4.02439111e-04  9.99912526e-01]] \n",
      " [[0.99879593]\n",
      " [0.01785243]\n",
      " [0.04569434]]\n"
     ]
    }
   ],
   "source": [
    "R, t = solutions[best_solution_idx]\n",
    "print(R, \"\\n\", t)"
   ]
  },
  {
   "cell_type": "code",
   "execution_count": 10,
   "id": "ba996fa3",
   "metadata": {},
   "outputs": [
    {
     "name": "stdout",
     "output_type": "stream",
     "text": [
      "recover pose num inliers:  307\n",
      "[[ 9.99912290e-01  8.02056307e-04 -1.32200575e-02]\n",
      " [-7.96665880e-04  9.99999597e-01  4.13007305e-04]\n",
      " [ 1.32203834e-02 -4.02439111e-04  9.99912526e-01]] \n",
      " [[0.99879593]\n",
      " [0.01785243]\n",
      " [0.04569434]]\n"
     ]
    }
   ],
   "source": [
    "# compare with variant that uses chariality test\n",
    "R, t, mask = estimate_camera_pose(last_pts, current_pts, camera_matrix, min_inliers=20)\n",
    "print(R, \"\\n\", t)"
   ]
  },
  {
   "cell_type": "code",
   "execution_count": null,
   "id": "5d57888d",
   "metadata": {},
   "outputs": [],
   "source": []
  },
  {
   "cell_type": "code",
   "execution_count": null,
   "id": "76b32e5c",
   "metadata": {},
   "outputs": [],
   "source": []
  },
  {
   "cell_type": "code",
   "execution_count": 15,
   "id": "5d34aaa2",
   "metadata": {},
   "outputs": [],
   "source": [
    "# estimate KF pose by decomposing homography (planar case)\n",
    "    \n",
    "# recover pose of second (right camera) with respect to first camera by decomposing homography between points\n",
    "# we could also use the essential matrix, however points are planar which is a degenrate case for the essential matrix\n",
    "homography, mask = cv2.findHomography(last_pts.astype(np.float32).reshape(-1, 1, 2), current_pts.astype(np.float32).reshape(-1, 1, 2), cv2.RANSAC)\n",
    "mask_ = mask.astype(np.bool).reshape(-1,)"
   ]
  },
  {
   "cell_type": "code",
   "execution_count": 16,
   "id": "7a47c859",
   "metadata": {},
   "outputs": [
    {
     "data": {
      "text/plain": [
       "(array([[ 9.67482152e-01, -1.25792416e-03,  8.95320167e+00],\n",
       "        [ 5.03365534e-03,  9.29239124e-01, -4.98838706e+01],\n",
       "        [-3.96703259e-06,  1.55491687e-05,  1.00000000e+00]]),\n",
       " array([ True,  True,  True,  True, False,  True,  True,  True, False,\n",
       "         True,  True,  True,  True,  True,  True,  True,  True,  True,\n",
       "         True,  True,  True,  True,  True,  True,  True,  True,  True,\n",
       "         True,  True,  True,  True,  True,  True,  True,  True,  True,\n",
       "         True,  True,  True,  True,  True,  True,  True,  True,  True,\n",
       "         True,  True,  True,  True,  True,  True,  True,  True,  True,\n",
       "         True,  True,  True,  True,  True,  True,  True,  True,  True,\n",
       "         True,  True,  True,  True,  True,  True,  True,  True,  True,\n",
       "         True,  True,  True,  True,  True, False,  True,  True,  True,\n",
       "         True,  True,  True,  True,  True, False,  True, False,  True,\n",
       "         True,  True,  True,  True,  True,  True,  True,  True,  True,\n",
       "         True,  True,  True,  True,  True,  True,  True,  True,  True,\n",
       "         True,  True,  True,  True,  True,  True,  True,  True,  True,\n",
       "        False,  True,  True,  True,  True,  True, False,  True,  True,\n",
       "         True,  True,  True,  True, False, False,  True,  True,  True,\n",
       "         True,  True,  True,  True,  True,  True,  True,  True,  True,\n",
       "         True,  True,  True,  True,  True,  True,  True,  True,  True,\n",
       "         True,  True,  True,  True,  True,  True,  True,  True,  True,\n",
       "        False,  True,  True,  True,  True,  True,  True,  True, False,\n",
       "         True,  True,  True,  True,  True,  True,  True,  True,  True,\n",
       "         True,  True,  True,  True,  True,  True,  True,  True,  True,\n",
       "         True,  True,  True,  True,  True,  True,  True,  True,  True,\n",
       "         True,  True,  True, False,  True,  True,  True,  True,  True,\n",
       "         True,  True,  True,  True,  True,  True,  True,  True,  True,\n",
       "         True,  True,  True,  True,  True,  True,  True,  True,  True,\n",
       "         True,  True,  True,  True,  True,  True,  True,  True,  True,\n",
       "         True,  True,  True,  True,  True,  True,  True,  True,  True,\n",
       "         True,  True]))"
      ]
     },
     "execution_count": 16,
     "metadata": {},
     "output_type": "execute_result"
    }
   ],
   "source": [
    "homography, mask_"
   ]
  },
  {
   "cell_type": "code",
   "execution_count": 17,
   "id": "bb562686",
   "metadata": {},
   "outputs": [
    {
     "name": "stdout",
     "output_type": "stream",
     "text": [
      "[[ 0.99999169 -0.00294044  0.00282334]\n",
      " [ 0.00292508  0.99998097  0.00543087]\n",
      " [-0.00283926 -0.00542256  0.99998127]]\n",
      "[[ 0.00642024]\n",
      " [ 0.08123588]\n",
      " [-0.04256851]]\n",
      "[[ 0.99999169 -0.00294044  0.00282334]\n",
      " [ 0.00292508  0.99998097  0.00543087]\n",
      " [-0.00283926 -0.00542256  0.99998127]]\n",
      "[[-0.00642024]\n",
      " [-0.08123588]\n",
      " [ 0.04256851]]\n",
      "[[ 9.99950365e-01 -9.94945088e-03 -5.25587273e-04]\n",
      " [ 9.86747337e-03  9.96251307e-01 -8.59416487e-02]\n",
      " [ 1.37868922e-03  8.59321968e-02  9.96300034e-01]]\n",
      "[[-0.00401701]\n",
      " [ 0.04752932]\n",
      " [ 0.0785964 ]]\n",
      "[[ 9.99950365e-01 -9.94945088e-03 -5.25587273e-04]\n",
      " [ 9.86747337e-03  9.96251307e-01 -8.59416487e-02]\n",
      " [ 1.37868922e-03  8.59321968e-02  9.96300034e-01]]\n",
      "[[ 0.00401701]\n",
      " [-0.04752932]\n",
      " [-0.0785964 ]]\n"
     ]
    }
   ],
   "source": [
    "retval, rotations, translations, normals = cv2.decomposeHomographyMat(homography, camera_matrix)\n",
    "\n",
    "for rotation, translation in zip(rotations, translations):\n",
    "    print(rotation)\n",
    "    print(translation)"
   ]
  },
  {
   "cell_type": "code",
   "execution_count": 18,
   "id": "e4da931a",
   "metadata": {},
   "outputs": [
    {
     "name": "stdout",
     "output_type": "stream",
     "text": [
      "possibleSolutions [[3]]\n"
     ]
    }
   ],
   "source": [
    "possibleSolutions = cv2.filterHomographyDecompByVisibleRefpoints(rotations, normals, last_pts.astype(np.float32).reshape(-1, 1, 2), current_pts.astype(np.float32).reshape(-1, 1, 2), mask)\n",
    "print(\"possibleSolutions\", possibleSolutions)"
   ]
  },
  {
   "cell_type": "code",
   "execution_count": null,
   "id": "2069aef3",
   "metadata": {},
   "outputs": [],
   "source": [
    "# figure out which solution works better\n",
    "R = rotations[possibleSolutions[0][0]]\n",
    "t = translations[possibleSolutions[0][0]]\n",
    "print(\"selected R and t\", R, t)"
   ]
  },
  {
   "cell_type": "code",
   "execution_count": null,
   "id": "9217d015",
   "metadata": {},
   "outputs": [],
   "source": [
    "#R = R.T\n",
    "#t = -np.matmul(R.T, t.reshape(3,)).reshape(3,1)"
   ]
  },
  {
   "cell_type": "code",
   "execution_count": 40,
   "id": "92ba56f1",
   "metadata": {},
   "outputs": [],
   "source": [
    "h = np.array([[-0.01394165],\n",
    " [ 0.04964594],\n",
    " [ 0.07912645]])\n",
    "\n",
    "#h = np.array([[-0.00468725],\n",
    "# [-0.08014081],\n",
    "# [ 0.04975504]])\n",
    "\n",
    "e = np.array([[-0.08289744],\n",
    " [ 0.57752931],\n",
    " [ 0.81215018]])"
   ]
  },
  {
   "cell_type": "code",
   "execution_count": 41,
   "id": "97f8d372",
   "metadata": {},
   "outputs": [],
   "source": [
    "h = h / np.linalg.norm(h)\n",
    "e = e / np.linalg.norm(e)"
   ]
  },
  {
   "cell_type": "code",
   "execution_count": 42,
   "id": "c233831f",
   "metadata": {},
   "outputs": [
    {
     "data": {
      "text/plain": [
       "array([[-0.05809171]])"
      ]
     },
     "execution_count": 42,
     "metadata": {},
     "output_type": "execute_result"
    }
   ],
   "source": [
    "np.dot(h.T, e)"
   ]
  },
  {
   "cell_type": "code",
   "execution_count": 43,
   "id": "85613ea8",
   "metadata": {},
   "outputs": [
    {
     "data": {
      "text/plain": [
       "[<matplotlib.lines.Line2D at 0x7fb3f2aef160>]"
      ]
     },
     "execution_count": 43,
     "metadata": {},
     "output_type": "execute_result"
    },
    {
     "data": {
      "image/png": "[encoded data removed]",
      "text/plain": [
       "<Figure size 432x288 with 1 Axes>"
      ]
     },
     "metadata": {
      "needs_background": "light"
     },
     "output_type": "display_data"
    }
   ],
   "source": [
    "plt.plot([0,h[0]], [0, h[1]])\n",
    "plt.plot([0,e[0]], [0, e[1]])"
   ]
  },
  {
   "cell_type": "code",
   "execution_count": 44,
   "id": "e46626db",
   "metadata": {},
   "outputs": [
    {
     "data": {
      "text/plain": [
       "[<matplotlib.lines.Line2D at 0x7fb3f2978208>]"
      ]
     },
     "execution_count": 44,
     "metadata": {},
     "output_type": "execute_result"
    },
    {
     "data": {
      "image/png": "[encoded data removed]",
      "text/plain": [
       "<Figure size 432x288 with 1 Axes>"
      ]
     },
     "metadata": {
      "needs_background": "light"
     },
     "output_type": "display_data"
    }
   ],
   "source": [
    "plt.plot([0,h[0]], [0, h[2]])\n",
    "plt.plot([0,e[0]], [0, e[2]])"
   ]
  },
  {
   "cell_type": "code",
   "execution_count": 45,
   "id": "1900658d",
   "metadata": {},
   "outputs": [
    {
     "data": {
      "text/plain": [
       "[<matplotlib.lines.Line2D at 0x7fb3f2884630>]"
      ]
     },
     "execution_count": 45,
     "metadata": {},
     "output_type": "execute_result"
    },
    {
     "data": {
      "image/png": "[encoded data removed]",
      "text/plain": [
       "<Figure size 432x288 with 1 Axes>"
      ]
     },
     "metadata": {
      "needs_background": "light"
     },
     "output_type": "display_data"
    }
   ],
   "source": [
    "plt.plot([0,h[1]], [0, h[2]])\n",
    "plt.plot([0,e[1]], [0, e[2]])"
   ]
  },
  {
   "cell_type": "code",
   "execution_count": null,
   "id": "8a859675",
   "metadata": {},
   "outputs": [],
   "source": []
  }
 ],
 "metadata": {
  "kernelspec": {
   "display_name": "Python 3",
   "language": "python",
   "name": "python3"
  },
  "language_info": {
   "codemirror_mode": {
    "name": "ipython",
    "version": 3
   },
   "file_extension": ".py",
   "mimetype": "text/x-python",
   "name": "python",
   "nbconvert_exporter": "python",
   "pygments_lexer": "ipython3",
   "version": "3.6.9"
  }
 },
 "nbformat": 4,
 "nbformat_minor": 5
}
