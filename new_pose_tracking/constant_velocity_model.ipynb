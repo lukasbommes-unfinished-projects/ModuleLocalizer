{
 "cells": [
  {
   "cell_type": "code",
   "execution_count": 73,
   "id": "ee7b3fca",
   "metadata": {},
   "outputs": [],
   "source": [
    "import pickle\n",
    "import numpy as np\n",
    "import matplotlib.pyplot as plt\n",
    "\n",
    "import sys\n",
    "sys.path.append(\"..\")\n",
    "\n",
    "from mapper.geometry import from_twist, to_twist"
   ]
  },
  {
   "cell_type": "code",
   "execution_count": 10,
   "id": "85dfb76e",
   "metadata": {},
   "outputs": [],
   "source": [
    "pose_graph = pickle.load(open(\"pose_graph.pkl\", \"rb\"))\n",
    "map_points = pickle.load(open(\"map_points.pkl\", \"rb\"))"
   ]
  },
  {
   "cell_type": "code",
   "execution_count": 11,
   "id": "e5d2454c",
   "metadata": {},
   "outputs": [
    {
     "data": {
      "text/plain": [
       "[(array([[1., 0., 0.],\n",
       "         [0., 1., 0.],\n",
       "         [0., 0., 1.]]),\n",
       "  array([[0.],\n",
       "         [0.],\n",
       "         [0.]])),\n",
       " (array([[ 0.99987317,  0.012289  , -0.01013085],\n",
       "         [-0.01142025,  0.99658692,  0.08175627],\n",
       "         [ 0.01110098, -0.0816302 ,  0.99660086]]),\n",
       "  array([[ 0.1752848 ],\n",
       "         [-0.62653719],\n",
       "         [-0.75942504]])),\n",
       " (array([[ 0.99957479,  0.02630918, -0.01257261],\n",
       "         [-0.02366484,  0.98386214,  0.17735634],\n",
       "         [ 0.01703582, -0.1769834 ,  0.98406639]]),\n",
       "  array([[ 0.33454752],\n",
       "         [-1.41361467],\n",
       "         [-1.87494293]]))]"
      ]
     },
     "execution_count": 11,
     "metadata": {},
     "output_type": "execute_result"
    }
   ],
   "source": [
    "[from_twist(pose_graph.nodes[n][\"pose\"]) for n in pose_graph]"
   ]
  },
  {
   "cell_type": "code",
   "execution_count": 50,
   "id": "1499c8e2",
   "metadata": {},
   "outputs": [],
   "source": [
    "poses = [\n",
    "    (np.array([[1., 0., 0.],\n",
    "               [0., 1., 0.],\n",
    "               [0., 0., 1.]]\n",
    "             ), \n",
    "     np.array([[0.],[0.],[0.]])),\n",
    "    (np.array([[1., 0., 0.],\n",
    "               [0., 0.8660254, -0.5000000],\n",
    "               [0., 0.5000000,  0.8660254]]), \n",
    "     np.array([[1.],[0.],[0.]])\n",
    "    ),\n",
    "    (np.array([[1., 0., 0.],\n",
    "               [0., 0.5000000, -0.8660254],\n",
    "               [0., 0.8660254,  0.5000000]]), \n",
    "     np.array([[2.],[0.],[0.]])\n",
    "    )\n",
    "]"
   ]
  },
  {
   "cell_type": "markdown",
   "id": "134ccab3",
   "metadata": {},
   "source": [
    "### Estimate rotational velocity"
   ]
  },
  {
   "cell_type": "raw",
   "id": "fe3d40e8",
   "metadata": {},
   "source": [
    "expected output for R\n",
    "[  1.0000000,  0.0000000,  0.0000000;\n",
    "   0.0000000,  0.0000000, -1.0000000;\n",
    "   0.0000000,  1.0000000,  0.0000000 ]"
   ]
  },
  {
   "cell_type": "code",
   "execution_count": 68,
   "id": "201ab84a",
   "metadata": {},
   "outputs": [
    {
     "data": {
      "text/plain": [
       "array([[ 1.        ,  0.        ,  0.        ],\n",
       "       [ 0.        ,  0.8660254 , -0.49999999],\n",
       "       [ 0.        ,  0.49999999,  0.8660254 ]])"
      ]
     },
     "execution_count": 68,
     "metadata": {},
     "output_type": "execute_result"
    }
   ],
   "source": [
    "velocity_R = np.matmul(poses[-2][0].T, poses[-1][0])\n",
    "velocity_R"
   ]
  },
  {
   "cell_type": "code",
   "execution_count": 70,
   "id": "0d8f40c2",
   "metadata": {},
   "outputs": [
    {
     "data": {
      "text/plain": [
       "array([[ 1.00000000e+00,  0.00000000e+00,  0.00000000e+00],\n",
       "       [ 0.00000000e+00,  5.67665803e-09, -9.99999990e-01],\n",
       "       [ 0.00000000e+00,  9.99999990e-01,  5.67665803e-09]])"
      ]
     },
     "execution_count": 70,
     "metadata": {},
     "output_type": "execute_result"
    }
   ],
   "source": [
    "next_R = np.matmul(velocity_R, poses[2][0])\n",
    "next_R"
   ]
  },
  {
   "cell_type": "markdown",
   "id": "7e89cb6e",
   "metadata": {},
   "source": [
    "### Estimate translational velocity"
   ]
  },
  {
   "cell_type": "code",
   "execution_count": null,
   "id": "8ba1c608",
   "metadata": {},
   "outputs": [],
   "source": [
    "velocity_t = poses[-1][1] - poses[-2][1]"
   ]
  },
  {
   "cell_type": "code",
   "execution_count": 37,
   "id": "ca1053a0",
   "metadata": {},
   "outputs": [],
   "source": [
    "# predict next pose\n",
    "next_t = velocity + poses[-1][1]"
   ]
  },
  {
   "cell_type": "code",
   "execution_count": 33,
   "id": "086c0861",
   "metadata": {},
   "outputs": [
    {
     "data": {
      "text/plain": [
       "array([[3.],\n",
       "       [0.],\n",
       "       [0.]])"
      ]
     },
     "execution_count": 33,
     "metadata": {},
     "output_type": "execute_result"
    }
   ],
   "source": [
    "next_t"
   ]
  },
  {
   "cell_type": "code",
   "execution_count": 58,
   "id": "892543d3",
   "metadata": {},
   "outputs": [
    {
     "data": {
      "text/plain": [
       "array([[ 1.       ,  0.       ,  0.       ],\n",
       "       [ 0.       ,  0.5      , -0.8660254],\n",
       "       [ 0.       ,  0.8660254,  0.5      ]])"
      ]
     },
     "execution_count": 58,
     "metadata": {},
     "output_type": "execute_result"
    }
   ],
   "source": [
    "poses[-1][0]"
   ]
  },
  {
   "cell_type": "markdown",
   "id": "73b8cda7",
   "metadata": {},
   "source": [
    "### Wrap in a function"
   ]
  },
  {
   "cell_type": "code",
   "execution_count": 71,
   "id": "6294e353",
   "metadata": {},
   "outputs": [],
   "source": [
    "def estimate_velocity(prev_pose, current_pose):\n",
    "    \"\"\"Returns translational and rotational velocity \n",
    "    that transform prev_pose into current_pose.\"\"\"\n",
    "    R0, t0 = from_twist(prev_pose)\n",
    "    R1, t1 = from_twist(current_pose)\n",
    "    # estimate translational velocity\n",
    "    vt = t1 - t0\n",
    "    # estimate rotational velocity\n",
    "    vR = np.matmul(R0.T, R1)\n",
    "    velocity = (vR, vt)\n",
    "    return velocity\n",
    "\n",
    "\n",
    "def predict_next_pose(pose, velocity):\n",
    "    \"\"\"Predicts next pose from pose with constant velocity model.\"\"\"\n",
    "    R, t = from_twist(pose)\n",
    "    vR, vt = velocity\n",
    "    next_R = np.matmul(vR, R)\n",
    "    next_t = vt + t\n",
    "    return to_twist(next_R, next_t)"
   ]
  },
  {
   "cell_type": "code",
   "execution_count": 75,
   "id": "1fabe531",
   "metadata": {},
   "outputs": [],
   "source": [
    "prev_pose = to_twist(poses[0][0], poses[0][1])\n",
    "current_pose = to_twist(poses[1][0], poses[1][1])\n",
    "\n",
    "velocity = estimate_velocity(prev_pose, current_pose)\n",
    "\n",
    "next_pose = predict_next_pose(current_pose, velocity)"
   ]
  },
  {
   "cell_type": "code",
   "execution_count": 77,
   "id": "10c44f9e",
   "metadata": {},
   "outputs": [
    {
     "data": {
      "text/plain": [
       "(array([[ 1.        ,  0.        ,  0.        ],\n",
       "        [ 0.        ,  0.5       , -0.86602541],\n",
       "        [ 0.        ,  0.86602541,  0.5       ]]),\n",
       " array([[2.],\n",
       "        [0.],\n",
       "        [0.]]))"
      ]
     },
     "execution_count": 77,
     "metadata": {},
     "output_type": "execute_result"
    }
   ],
   "source": [
    "from_twist(next_pose)"
   ]
  },
  {
   "cell_type": "code",
   "execution_count": null,
   "id": "a6009605",
   "metadata": {},
   "outputs": [],
   "source": []
  }
 ],
 "metadata": {
  "kernelspec": {
   "display_name": "Python 3",
   "language": "python",
   "name": "python3"
  },
  "language_info": {
   "codemirror_mode": {
    "name": "ipython",
    "version": 3
   },
   "file_extension": ".py",
   "mimetype": "text/x-python",
   "name": "python",
   "nbconvert_exporter": "python",
   "pygments_lexer": "ipython3",
   "version": "3.6.9"
  }
 },
 "nbformat": 4,
 "nbformat_minor": 5
}
