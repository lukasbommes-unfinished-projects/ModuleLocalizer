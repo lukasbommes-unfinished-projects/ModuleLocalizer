{
 "cells": [
  {
   "cell_type": "code",
   "execution_count": 1,
   "id": "c626404b",
   "metadata": {},
   "outputs": [],
   "source": [
    "import numpy as np\n",
    "import g2o\n",
    "import os\n",
    "\n",
    "import sys\n",
    "sys.path.append('/home/pangolin/build/src') # for inside docker container\n",
    "import pypangolin as pango\n",
    "\n",
    "input_file = 'sphere2500.g2o'\n",
    "max_iterations = 10\n",
    "output_file = \"sphere2500_out.g2o\""
   ]
  },
  {
   "cell_type": "code",
   "execution_count": 2,
   "id": "4ec870fc",
   "metadata": {},
   "outputs": [],
   "source": [
    "#solver = g2o.BlockSolverX(g2o.LinearSolverCholmodX())\n",
    "solver = g2o.BlockSolverSE3(g2o.LinearSolverEigenSE3())\n",
    "solver = g2o.OptimizationAlgorithmLevenberg(solver)\n",
    "\n",
    "optimizer = g2o.SparseOptimizer()\n",
    "optimizer.set_verbose(True)\n",
    "optimizer.set_algorithm(solver)"
   ]
  },
  {
   "cell_type": "code",
   "execution_count": 3,
   "id": "1070550c",
   "metadata": {},
   "outputs": [
    {
     "name": "stdout",
     "output_type": "stream",
     "text": [
      "num vertices: 2500\n",
      "num edges: 4949\n",
      "\n"
     ]
    }
   ],
   "source": [
    "optimizer.load(input_file)\n",
    "print('num vertices:', len(optimizer.vertices()))\n",
    "print('num edges:', len(optimizer.edges()), end='\\n\\n')"
   ]
  },
  {
   "cell_type": "code",
   "execution_count": 4,
   "id": "4c167130",
   "metadata": {},
   "outputs": [
    {
     "data": {
      "text/plain": [
       "<g2o.VertexSE3 at 0x7f6e9c06c8b8>"
      ]
     },
     "execution_count": 4,
     "metadata": {},
     "output_type": "execute_result"
    }
   ],
   "source": [
    "optimizer.vertices()[0]"
   ]
  },
  {
   "cell_type": "code",
   "execution_count": 5,
   "id": "faa49d4d",
   "metadata": {},
   "outputs": [
    {
     "data": {
      "text/plain": [
       "True"
      ]
     },
     "execution_count": 5,
     "metadata": {},
     "output_type": "execute_result"
    }
   ],
   "source": [
    "optimizer.initialize_optimization()"
   ]
  },
  {
   "cell_type": "code",
   "execution_count": 6,
   "id": "64a0ec7b",
   "metadata": {},
   "outputs": [
    {
     "data": {
      "text/plain": [
       "10"
      ]
     },
     "execution_count": 6,
     "metadata": {},
     "output_type": "execute_result"
    }
   ],
   "source": [
    "optimizer.optimize(max_iterations)"
   ]
  },
  {
   "cell_type": "code",
   "execution_count": 7,
   "id": "c16eb22c",
   "metadata": {},
   "outputs": [],
   "source": [
    "if len(output_file) > 0:\n",
    "    optimizer.save(output_file)"
   ]
  },
  {
   "cell_type": "code",
   "execution_count": null,
   "id": "196dca3f",
   "metadata": {},
   "outputs": [],
   "source": []
  }
 ],
 "metadata": {
  "kernelspec": {
   "display_name": "Python 3",
   "language": "python",
   "name": "python3"
  },
  "language_info": {
   "codemirror_mode": {
    "name": "ipython",
    "version": 3
   },
   "file_extension": ".py",
   "mimetype": "text/x-python",
   "name": "python",
   "nbconvert_exporter": "python",
   "pygments_lexer": "ipython3",
   "version": "3.6.9"
  }
 },
 "nbformat": 4,
 "nbformat_minor": 5
}
