{
 "cells": [
  {
   "cell_type": "code",
   "execution_count": 2,
   "id": "f277901d",
   "metadata": {},
   "outputs": [],
   "source": [
    "import cv2\n",
    "import g2o\n",
    "import numpy as np"
   ]
  },
  {
   "cell_type": "code",
   "execution_count": 3,
   "id": "d6954d8b",
   "metadata": {},
   "outputs": [],
   "source": [
    "def to_twist(R, t):\n",
    "    \"\"\"Convert a 3x3 rotation matrix and translation vector (shape (3,))\n",
    "    into a 6D twist coordinate (shape (6,)).\"\"\"\n",
    "    r, _ = cv2.Rodrigues(R)\n",
    "    twist = np.zeros((6,))\n",
    "    twist[:3] = r.reshape(3,)\n",
    "    twist[3:] = t.reshape(3,)\n",
    "    return twist\n",
    "\n",
    "\n",
    "def from_twist(twist):\n",
    "    \"\"\"Convert a 6D twist coordinate (shape (6,)) into a 3x3 rotation matrix\n",
    "    and translation vector (shape (3,)).\"\"\"\n",
    "    r = twist[:3].reshape(3, 1)\n",
    "    t = twist[3:].reshape(3, 1)\n",
    "    R, _ = cv2.Rodrigues(r)\n",
    "    return R, t"
   ]
  },
  {
   "cell_type": "code",
   "execution_count": 5,
   "id": "1e428f4c",
   "metadata": {},
   "outputs": [
    {
     "name": "stdout",
     "output_type": "stream",
     "text": [
      "[[ 9.99977092e-01  5.26644337e-04  6.74824649e-03]\n",
      " [-5.30408568e-04  9.99999705e-01  5.56031166e-04]\n",
      " [-6.74795167e-03 -5.59597756e-04  9.99977076e-01]] [[-0.82873858]\n",
      " [-0.04431298]\n",
      " [-0.55787877]]\n"
     ]
    }
   ],
   "source": [
    "pose = np.array([-5.57818750e-04,  6.74815096e-03, -5.28530516e-04, -8.28738584e-01,\n",
    " -4.43129790e-02, -5.57878768e-01])\n",
    "R, t = from_twist(pose)\n",
    "print(R, t)"
   ]
  },
  {
   "cell_type": "code",
   "execution_count": 8,
   "id": "dddbfd79",
   "metadata": {},
   "outputs": [],
   "source": [
    "se3quat = g2o.SE3Quat(R, np.squeeze(t))"
   ]
  },
  {
   "cell_type": "code",
   "execution_count": 13,
   "id": "141721bc",
   "metadata": {},
   "outputs": [
    {
     "data": {
      "text/plain": [
       "(array([-0.82873858, -0.04431298, -0.55787877]),\n",
       " <g2o.Quaternion at 0x7efec5c92b20>)"
      ]
     },
     "execution_count": 13,
     "metadata": {},
     "output_type": "execute_result"
    }
   ],
   "source": [
    "se3quat.translation(), se3quat.rotation() #.toRotationMatrix()"
   ]
  },
  {
   "cell_type": "code",
   "execution_count": 14,
   "id": "7ff0bfbb",
   "metadata": {},
   "outputs": [
    {
     "data": {
      "text/plain": [
       "array([-8.28738584e-01, -4.43129790e-02, -5.57878768e-01, -2.78908839e-04,\n",
       "        3.37406900e-03, -2.64264750e-04])"
      ]
     },
     "execution_count": 14,
     "metadata": {},
     "output_type": "execute_result"
    }
   ],
   "source": [
    "se3quat.to_minimal_vector()"
   ]
  },
  {
   "cell_type": "code",
   "execution_count": 27,
   "id": "e42f4c66",
   "metadata": {},
   "outputs": [],
   "source": [
    "R = se3quat.to_homogeneous_matrix()[0:3, 0:3]\n",
    "t = se3quat.to_homogeneous_matrix()[0:3, 3]\n",
    "R, t\n",
    "pose_ = to_twist(R, t)"
   ]
  },
  {
   "cell_type": "code",
   "execution_count": null,
   "id": "5db6e431",
   "metadata": {},
   "outputs": [],
   "source": []
  }
 ],
 "metadata": {
  "kernelspec": {
   "display_name": "Python 3",
   "language": "python",
   "name": "python3"
  },
  "language_info": {
   "codemirror_mode": {
    "name": "ipython",
    "version": 3
   },
   "file_extension": ".py",
   "mimetype": "text/x-python",
   "name": "python",
   "nbconvert_exporter": "python",
   "pygments_lexer": "ipython3",
   "version": "3.6.9"
  }
 },
 "nbformat": 4,
 "nbformat_minor": 5
}
